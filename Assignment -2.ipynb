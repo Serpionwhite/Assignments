{
 "cells": [
  {
   "cell_type": "markdown",
   "metadata": {},
   "source": [
    "## TASK 1"
   ]
  },
  {
   "cell_type": "code",
   "execution_count": 3,
   "metadata": {},
   "outputs": [
    {
     "name": "stdout",
     "output_type": "stream",
     "text": [
      "Sum on list [1,2,3] using custom reduce function 6\n"
     ]
    }
   ],
   "source": [
    "#Question 1.1\n",
    "'''\n",
    "Write a Python Program to implement your own myreduce() function which works exactly likePython's built-in function reduce()\n",
    "'''\n",
    "def myreduce(anyfunc, sequence):\n",
    "  result = sequence[0]\n",
    "  for item in sequence[1:]:\n",
    "   result = anyfunc(result, item)\n",
    "\n",
    "  return result\n",
    "\n",
    "def sum(x,y): return x + y\n",
    "\n",
    "print (\"Sum on list [1,2,3] using custom reduce function \"   + str(myreduce(sum, [1,2,3])) )"
   ]
  },
  {
   "cell_type": "code",
   "execution_count": 2,
   "metadata": {},
   "outputs": [
    {
     "name": "stdout",
     "output_type": "stream",
     "text": [
      "Filter only positive Integers on list [0,1,-2,3,4,5] using custom filter function[1, 3, 4, 5]\n"
     ]
    }
   ],
   "source": [
    "#Question 1.2\n",
    "'''\n",
    "Write a Python program to implement your own myfilter() function which works exactly likePython's built-in function filter()\n",
    "'''\n",
    "def myfilter(anyfunc, sequence):\n",
    " result = []\n",
    " for item in sequence:\n",
    "  if anyfunc(item):\n",
    "   result.append(item)\n",
    " return result\n",
    "\n",
    "def ispositive(x):\n",
    " if (x <= 0): \n",
    "  return False \n",
    " else: \n",
    "  return True\n",
    "\n",
    "print (\"Filter only positive Integers on list [0,1,-2,3,4,5] using custom filter function\"  + str(myfilter(ispositive, [0,1,-2,3,4,5])))\n"
   ]
  },
  {
   "cell_type": "code",
   "execution_count": 22,
   "metadata": {},
   "outputs": [
    {
     "name": "stdout",
     "output_type": "stream",
     "text": [
      "['A', 'C', 'A', 'D', 'G', 'I', 'L', 'D']\n",
      "['x', 'xx', 'xxx', 'xxxx', 'y', 'yy', 'yyy', 'yyyy', 'z', 'zz', 'zzz', 'zzzz']\n",
      "['x', 'y', 'z', 'xx', 'yy', 'zz', 'xxx', 'yyy', 'zzz', 'xxxx', 'yyyy', 'zzzz']\n",
      "[(1, 1), (2, 1), (3, 1), (1, 2), (2, 2), (3, 2), (1, 3), (2, 3), (3, 3)]\n"
     ]
    }
   ],
   "source": [
    "#Question 2\n",
    "'''\n",
    "Implement List comprehensions to produce the following lists.Write List comprehensions to produce the following Lists:\n",
    "['A', 'C', 'A', 'D', 'G', 'I', ’L’, ‘ D’]\n",
    "['x', 'xx', 'xxx', 'xxxx', 'y', 'yy', 'yyy', 'yyyy', 'z', 'zz', 'zzz', 'zzzz']\n",
    "['x', 'y', 'z', 'xx', 'yy', 'zz', 'xx', 'yy', 'zz', 'xxxx', 'yyyy', 'zzzz']\n",
    "[[2], [3], [4], [3], [4], [5], [4], [5], [6]]\n",
    "[[2, 3, 4, 5], [3, 4, 5, 6], [4, 5, 6, 7], [5, 6, 7, 8]]\n",
    "[(1, 1), (2, 1), (3, 1), (1, 2), (2, 2), (3, 2), (1, 3), (2, 3), (3, 3)]\n",
    "'''\n",
    "\n",
    "given_list = ['A', 'C', 'A', 'D', 'G', 'I', 'L', 'D']\n",
    "new_list = [index for index in given_list]\n",
    "print(new_list)\n",
    "\n",
    "given_list = ['x','y','z']\n",
    "new_list = [index*num for index in given_list for num in range(1,5)]\n",
    "print(new_list)\n",
    "\n",
    "given_list = ['x','y','z']\n",
    "new_list = [index*num for num in range(1,5) for index in given_list]\n",
    "print(new_list)\n",
    "\n",
    "given_list = [1,2,3]\n",
    "new_list = [(j,i) for i in given_list for j in given_list]\n",
    "print(new_list)"
   ]
  },
  {
   "cell_type": "code",
   "execution_count": 28,
   "metadata": {},
   "outputs": [
    {
     "name": "stdout",
     "output_type": "stream",
     "text": [
      "South Africa\n"
     ]
    }
   ],
   "source": [
    "#Question 3\n",
    "'''\n",
    "Implement a function longestWord() that takes a list of words and returns the longest one.\n",
    "'''\n",
    "def longestWord(list):\n",
    "    new_list = []\n",
    "    max = 0\n",
    "    for index in list:\n",
    "        if len(index) > max:\n",
    "            max = len(index)\n",
    "            new_list.append(index)\n",
    "    new_list.sort()\n",
    "    return new_list[-1]\n",
    "    \n",
    "given_list = ['South Africa','Dog', 'Cat','Mouse', 'At', 'California', 'New Zealand', 'India']\n",
    "print(longestWord(given_list))"
   ]
  },
  {
   "cell_type": "markdown",
   "metadata": {},
   "source": [
    "## TASK 2"
   ]
  },
  {
   "cell_type": "code",
   "execution_count": 4,
   "metadata": {},
   "outputs": [
    {
     "name": "stdout",
     "output_type": "stream",
     "text": [
      "14.696938456699069\n"
     ]
    }
   ],
   "source": [
    "#Question 1.1\n",
    "'''\n",
    "Write a Python Program(with class concepts) to find the area of the triangle using the below formula.\n",
    "area = (s*(s-a)*(s-b)*(s-c)) ** 0.5\n",
    "Function to take the length of the sides of triangle from user should be defined in the parentclass and \n",
    "function to calculate the area should be defined in subclass.\n",
    "'''\n",
    "\n",
    "class Triangle:\n",
    "    def __init__(self,a,b,c):\n",
    "        self.a = a\n",
    "        self.b = b\n",
    "        self.c = c\n",
    "    def area(self):\n",
    "        s = (self.a + self.b + self.c) / 2\n",
    "        print((s*(s-self.a)*(s-self.b)*(s-self.c)) ** 0.5)\n",
    "obj1 = Triangle(5,6,7)\n",
    "obj1.area()"
   ]
  },
  {
   "cell_type": "code",
   "execution_count": 15,
   "metadata": {},
   "outputs": [
    {
     "name": "stdout",
     "output_type": "stream",
     "text": [
      "['Mouse', 'California', 'New Zealand', 'India']\n"
     ]
    }
   ],
   "source": [
    "#Question 1.2\n",
    "'''\n",
    "Write a function filter_long_words() that takes a list of words and an integer n and returns the listof words that are \n",
    "longer than n.\n",
    "'''\n",
    "\n",
    "def filter_long_words(given_list,number):\n",
    "    new_list = []\n",
    "    for index in given_list:\n",
    "        if len(index) > number:\n",
    "            new_list.append(index)\n",
    "    return new_list\n",
    "\n",
    "given_list = ['Dog', 'Cat','Mouse', 'At', 'California', 'New Zealand', 'India']\n",
    "print(filter_long_words(given_list, 4))"
   ]
  },
  {
   "cell_type": "code",
   "execution_count": 23,
   "metadata": {},
   "outputs": [
    {
     "name": "stdout",
     "output_type": "stream",
     "text": [
      "[2, 3, 4]\n"
     ]
    }
   ],
   "source": [
    "#Question 2.1\n",
    "'''\n",
    "Write a Python program using function concept that maps  list of words into a list of integers representing the lengths of the \n",
    "corresponding words\n",
    "Hint: If a list [ ab,cde,erty] is passed on to the python function output should come as [2,3,4]\n",
    "Here 2,3 and 4 are the lengths of the words in the list.\n",
    "'''\n",
    "\n",
    "def mapping(given_list):\n",
    "    return [len(index) for index in given_list]\n",
    "    \n",
    "given_list = ['ab','cde','erty']\n",
    "print(mapping(given_list))"
   ]
  },
  {
   "cell_type": "code",
   "execution_count": 13,
   "metadata": {},
   "outputs": [
    {
     "name": "stdout",
     "output_type": "stream",
     "text": [
      "Enter String of 1 character : z\n",
      "False\n"
     ]
    }
   ],
   "source": [
    "#Question 2.2\n",
    "'''\n",
    "Write a Python function which takes a character (i.e. a string of length 1) and returns True if it is a vowel, False otherwise.\n",
    "'''\n",
    "\n",
    "def vowel(string):\n",
    "    if string in vowel_list:\n",
    "        return True\n",
    "    return False\n",
    "    \n",
    "vowel_list = ['a','e','i','o','u']\n",
    "input_string = input(\"Enter String of 1 character : \")\n",
    "print(vowel(input_string))"
   ]
  }
 ],
 "metadata": {
  "kernelspec": {
   "display_name": "Python 3",
   "language": "python",
   "name": "python3"
  },
  "language_info": {
   "codemirror_mode": {
    "name": "ipython",
    "version": 3
   },
   "file_extension": ".py",
   "mimetype": "text/x-python",
   "name": "python",
   "nbconvert_exporter": "python",
   "pygments_lexer": "ipython3",
   "version": "3.7.4"
  }
 },
 "nbformat": 4,
 "nbformat_minor": 2
}
