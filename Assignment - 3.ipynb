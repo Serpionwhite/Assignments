{
 "cells": [
  {
   "cell_type": "markdown",
   "metadata": {},
   "source": [
    "## TASK1"
   ]
  },
  {
   "cell_type": "code",
   "execution_count": 2,
   "metadata": {},
   "outputs": [
    {
     "name": "stdout",
     "output_type": "stream",
     "text": [
      "Error Code: division by zero\n"
     ]
    }
   ],
   "source": [
    "#Question 1\n",
    "'''\n",
    "Write a function to compute 5/0 and use try/except to catch the exceptions.\n",
    "'''\n",
    "\n",
    "try:\n",
    "    print(5/0)\n",
    "except Exception as e:\n",
    "    print(\"Error Code:\",str(e))"
   ]
  },
  {
   "cell_type": "code",
   "execution_count": 3,
   "metadata": {},
   "outputs": [
    {
     "name": "stdout",
     "output_type": "stream",
     "text": [
      "Americans play Baseball.\n",
      "Americans play Cricket.\n",
      "Americans watch Baseball.\n",
      "Americans watch Cricket.\n",
      "Indians play Baseball.\n",
      "Indians play Cricket.\n",
      "Indians watch Baseball.\n",
      "Indians watch Cricket.\n"
     ]
    }
   ],
   "source": [
    "#Question 2\n",
    "'''\n",
    "Implement a Python program to generate all sentences where subject is in [\"Americans\",\"Indians\"] and verb is in \n",
    "[\"Play\", \"watch\"] and the object is in [\"Baseball\",\"cricket\"].Hint: Subject,Verb and Object should be declared in the program \n",
    "as shown below.subjects=[\"Americans \",\"Indians\"]verbs=[\"play\",\"watch\"]objects=[\"Baseball\",\"Cricket\"]\n",
    "'''\n",
    "subject = [\"Americans\",\"Indians\"]\n",
    "verb = [\"play\",\"watch\"]\n",
    "game = [\"Baseball\",\"Cricket\"]\n",
    "\n",
    "for i in subject:\n",
    "    for j in verb:\n",
    "        for k in game:\n",
    "            print(i+' '+j+' '+k+'.')"
   ]
  },
  {
   "cell_type": "code",
   "execution_count": 12,
   "metadata": {},
   "outputs": [
    {
     "name": "stdout",
     "output_type": "stream",
     "text": [
      "Americans play Baseball.\n",
      "Americans play Cricket.\n",
      "Americans watch Baseball.\n",
      "Americans watch Cricket.\n",
      "Indians play Baseball.\n",
      "Indians play Cricket.\n",
      "Indians watch Baseball.\n",
      "Indians watch Cricket.\n"
     ]
    }
   ],
   "source": [
    "new_list = [i+' '+j+' '+k+'.' for i in subject for j in verb for k in game]\n",
    "print('\\n'.join(new_list))"
   ]
  },
  {
   "cell_type": "markdown",
   "metadata": {},
   "source": [
    "## Task 2"
   ]
  },
  {
   "cell_type": "code",
   "execution_count": 8,
   "metadata": {},
   "outputs": [
    {
     "name": "stdout",
     "output_type": "stream",
     "text": [
      "[[ 1  1  1]\n",
      " [ 1  2  4]\n",
      " [ 1  3  9]\n",
      " [ 1  4 16]\n",
      " [ 1  5 25]]\n"
     ]
    }
   ],
   "source": [
    "'''\n",
    "Write a function so that the columns of the output matrix are powers of the input vector.The order of the powers is determined bythe\n",
    "increasing boolean argument.Specifically, when increasing is False,the i-th output column is the input vector raised element-wise\n",
    "to the powerof N - i - 1.HINT:Such a matrix with a geometric progression in each row is named for Alexandre-Theophile Vandermonde.\n",
    "'''\n",
    "import numpy as np\n",
    "\n",
    "def vander_matrix(input_vector,column_size):\n",
    "    matrix = np.array([x**i for x in input_vector for i in range(column_size)]).reshape(len(input_vector),column_size)\n",
    "    return matrix\n",
    "\n",
    "input_vector = [1,2,3,4,5]\n",
    "columns = 3\n",
    "output = vander_matrix(input_vector, columns)\n",
    "print(output)\n",
    "\n",
    "    \n"
   ]
  }
 ],
 "metadata": {
  "kernelspec": {
   "display_name": "Python 3",
   "language": "python",
   "name": "python3"
  },
  "language_info": {
   "codemirror_mode": {
    "name": "ipython",
    "version": 3
   },
   "file_extension": ".py",
   "mimetype": "text/x-python",
   "name": "python",
   "nbconvert_exporter": "python",
   "pygments_lexer": "ipython3",
   "version": "3.7.4"
  }
 },
 "nbformat": 4,
 "nbformat_minor": 2
}
